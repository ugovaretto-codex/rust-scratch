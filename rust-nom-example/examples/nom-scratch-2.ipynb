{
 "cells": [
  {
   "cell_type": "markdown",
   "id": "9347f9fe",
   "metadata": {},
   "source": [
    "## Resources\n",
    "\n",
    "* https://github.com/benkay86/nom-tutorial\n",
    "* https://blog.logrocket.com/parsing-in-rust-with-nom/\n",
    "* https://iximiuz.com/en/posts/rust-writing-parsers-with-nom/\n",
    "* https://developerlife.com/2023/02/20/guide-to-nom-parsing/\n",
    "* Extended error: https://github.com/rust-bakery/nom/blob/main/examples/string.rs#L168"
   ]
  },
  {
   "cell_type": "code",
   "execution_count": 14,
   "id": "6e1b756d",
   "metadata": {},
   "outputs": [],
   "source": [
    ":dep nom\n",
    ":dep nom-supreme"
   ]
  },
  {
   "cell_type": "markdown",
   "id": "f3a42ed0",
   "metadata": {},
   "source": [
    "## Hex color parser"
   ]
  },
  {
   "cell_type": "code",
   "execution_count": 71,
   "id": "ac4bf671",
   "metadata": {},
   "outputs": [],
   "source": [
    "use nom;\n",
    "use nom_supreme::error::ErrorTree;\n",
    "use nom_supreme::context;\n",
    "use nom_supreme::ParserExt;\n",
    "use nom_supreme::tag::complete::tag;"
   ]
  },
  {
   "cell_type": "code",
   "execution_count": 59,
   "id": "1d1c8c79",
   "metadata": {},
   "outputs": [],
   "source": [
    "#[derive(Debug, PartialEq)]\n",
    "struct Color {\n",
    "    red: u8,\n",
    "    green: u8,\n",
    "    blue: u8,\n",
    "}"
   ]
  },
  {
   "cell_type": "code",
   "execution_count": 60,
   "id": "2e75a8e2",
   "metadata": {},
   "outputs": [],
   "source": [
    "fn parse_hex_seg(input: &str) -> nom::IResult<&str, u8> {\n",
    "    nom::combinator::map_res(\n",
    "        nom::bytes::complete::take_while_m_n(2,2, \n",
    "            |it: char| it.is_ascii_hexdigit()),\n",
    "      |it: &str| u8::from_str_radix(it, 16),\n",
    "    )(input)\n",
    "}\n",
    "        "
   ]
  },
  {
   "cell_type": "code",
   "execution_count": 61,
   "id": "2450da0b",
   "metadata": {},
   "outputs": [
    {
     "name": "stdout",
     "output_type": "stream",
     "text": [
      "Error(Error { input: \"Ax\", code: TakeWhileMN })\n"
     ]
    }
   ],
   "source": [
    "let _ = match parse_hex_seg(\"Ax\") {\n",
    "    Ok((left, parsed)) => println!(\"left: {left}, parsed {parsed}\"),\n",
    "    Err(e) => println!(\"{:?}\", e),\n",
    "};"
   ]
  },
  {
   "cell_type": "code",
   "execution_count": 65,
   "id": "1345ff5b",
   "metadata": {},
   "outputs": [],
   "source": [
    "fn hex_color_no_alpha(input: &str) -> nom::IResult<&str, Color> {\n",
    "    let (input, _) = nom::bytes::complete::tag(\"#\")(input)?;\n",
    "//     nom::multi::count(parse_hex_seg, 3)(input).map(\n",
    "//        |(i, v)| (i, Color{red: v[0], green: v[1], blue: v[2]}))\n",
    "     nom::sequence::tuple((parse_hex_seg,\n",
    "                        parse_hex_seg,\n",
    "                        parse_hex_seg))(input).map(\n",
    "        |(i, v)| (i, Color{red: v.0, green: v.1, blue: v.2}))\n",
    "}"
   ]
  },
  {
   "cell_type": "code",
   "execution_count": 63,
   "id": "fb833a79",
   "metadata": {},
   "outputs": [
    {
     "name": "stdout",
     "output_type": "stream",
     "text": [
      "Error(Error { input: \"0A21AA\", code: Tag })\n"
     ]
    }
   ],
   "source": [
    "let _ = match hex_color_no_alpha(\"0A21AA\") {\n",
    "    Ok((_, Color{red: r, green: g, blue: b})) => println!(\"r: {r}, g: {g}, b: {b}\"),\n",
    "    Err(e) => println!(\"{:?}\", e),\n",
    "};"
   ]
  },
  {
   "cell_type": "code",
   "execution_count": 101,
   "id": "85519d44",
   "metadata": {},
   "outputs": [],
   "source": [
    "fn parse_hex_seg2(input: &'static str) -> nom::IResult<&str, u8, ErrorTree<&str>> {\n",
    "    nom::combinator::map_res(\n",
    "        nom::bytes::complete::take_while_m_n(2,2, \n",
    "                    |it: char| it.is_ascii_hexdigit())\n",
    "                    .context(\"Wrong digit format\").context(&input[..2]),\n",
    "                    |it: &str| u8::from_str_radix(it, 16),\n",
    "    )(input)\n",
    "}\n",
    "fn hex_color_no_alpha2(input: &'static str) -> nom::IResult<&str, Color, ErrorTree<&str>> {\n",
    "    let (input, _) = nom_supreme::tag::complete::tag(\"#\")(input)?;\n",
    "//     nom::multi::count(parse_hex_seg, 3)(input).map(\n",
    "//        |(i, v)| (i, Color{red: v[0], green: v[1], blue: v[2]}))\n",
    "    let (input, (red, green, blue)) = \n",
    "     nom::sequence::tuple((parse_hex_seg2,\n",
    "                        parse_hex_seg2,\n",
    "                        parse_hex_seg2))(input)?;\n",
    "    Ok((input, Color{red, green, blue}))\n",
    "}"
   ]
  },
  {
   "cell_type": "code",
   "execution_count": 107,
   "id": "761d217f",
   "metadata": {},
   "outputs": [
    {
     "name": "stdout",
     "output_type": "stream",
     "text": [
      "r: 10, g: 33, b: 170\n"
     ]
    }
   ],
   "source": [
    "let _ = match hex_color_no_alpha2(\"#0a21AA\") {\n",
    "    Ok((_, Color{red: r, green: g, blue: b})) => println!(\"r: {r}, g: {g}, b: {b}\"),\n",
    "    Err(e) => println!(\"{:?}\", e),\n",
    "};"
   ]
  },
  {
   "cell_type": "code",
   "execution_count": 108,
   "id": "bd07d0b0",
   "metadata": {},
   "outputs": [
    {
     "name": "stderr",
     "output_type": "stream",
     "text": [
      "[src/lib.rs:52] hex_color_no_alpha2(\"#0A2$AA\") = Err(\n",
      "    Error(\n",
      "        Stack {\n",
      "            base: Base {\n",
      "                location: \"2$AA\",\n",
      "                kind: Kind(\n",
      "                    TakeWhileMN,\n",
      "                ),\n",
      "            },\n",
      "            contexts: [\n",
      "                (\n",
      "                    \"2$AA\",\n",
      "                    Context(\n",
      "                        \"Wrong digit format\",\n",
      "                    ),\n",
      "                ),\n",
      "                (\n",
      "                    \"2$AA\",\n",
      "                    Context(\n",
      "                        \"2$\",\n",
      "                    ),\n",
      "                ),\n",
      "            ],\n",
      "        },\n",
      "    ),\n",
      ")\n"
     ]
    }
   ],
   "source": [
    "dbg!(hex_color_no_alpha2(\"#0A2$AA\"));"
   ]
  },
  {
   "cell_type": "markdown",
   "id": "bd0a12b4",
   "metadata": {},
   "source": [
    "## Custom error type (pq parser)\n",
    "\n",
    "https://iximiuz.com/en/posts/rust-writing-parsers-with-nom/"
   ]
  },
  {
   "cell_type": "code",
   "execution_count": 109,
   "id": "0464c21b",
   "metadata": {},
   "outputs": [],
   "source": [
    "use nom::{\n",
    "    branch::alt,\n",
    "    bytes::complete::{tag, tag_no_case},\n",
    "    character::complete::{alpha1, alphanumeric1},\n",
    "    combinator::recognize,\n",
    "    multi::many0,\n",
    "    sequence::pair,\n",
    "    IResult\n",
    "};"
   ]
  },
  {
   "cell_type": "code",
   "execution_count": 196,
   "id": "1a48dd41",
   "metadata": {},
   "outputs": [
    {
     "data": {
      "text/plain": [
       "()"
      ]
     },
     "execution_count": 196,
     "metadata": {},
     "output_type": "execute_result"
    }
   ],
   "source": [
    "use nom::combinator::recognize;\n",
    "use nom::character::complete::{char, alpha1};\n",
    "use nom::sequence::separated_pair;\n",
    "use nom::{Err, error::ErrorKind};\n",
    "use nom::IResult;\n",
    "use nom::character::complete::space0;\n",
    "use nom::sequence::delimited;\n",
    "use nom::bytes::complete::is_not;\n",
    "use nom::combinator::value;\n",
    "use nom::sequence::preceded;\n",
    "use nom::sequence::tuple;\n",
    "use nom::multi::separated_list1;\n",
    "\n",
    "{\n",
    "let mut parser = recognize(separated_pair(alpha1, char(','), alpha1));\n",
    "\n",
    "assert_eq!(parser(\"abcd,efgh\"), Ok((\"\", \"abcd,efgh\")));\n",
    "assert_eq!(parser(\"abcd;\"),Err(Err::Error((\";\", ErrorKind::Char))));\n",
    "}\n"
   ]
  },
  {
   "cell_type": "code",
   "execution_count": 197,
   "id": "9dde416a",
   "metadata": {},
   "outputs": [],
   "source": [
    "pub fn identifier(input: &str) -> IResult<&str, &str> {\n",
    "    // [a-zA-Z_][a-zA-Z0-9_]*\n",
    "    let (rest, m) = recognize(pair(\n",
    "        alt((alpha1, tag(\"_\"))),\n",
    "        many0(alt((alphanumeric1, tag(\"_\")))),\n",
    "    ))(input)?;\n",
    "    Ok((rest, m))\n",
    "}"
   ]
  },
  {
   "cell_type": "code",
   "execution_count": 198,
   "id": "1ff30535",
   "metadata": {},
   "outputs": [],
   "source": [
    "pub fn string_literal(input: &str) -> IResult<&str, &str> {\n",
    "    let (rest, m) = recognize(\n",
    "        delimited(char('\"'), many0(is_not(\"\\\"\")), char('\"'))\n",
    "    )(input)?;\n",
    "    Ok((rest, &m[1..m.len() - 1]))\n",
    "}"
   ]
  },
  {
   "cell_type": "code",
   "execution_count": 199,
   "id": "81ca5485",
   "metadata": {},
   "outputs": [
    {
     "data": {
      "text/plain": [
       "Ok((\"\", \"ciao\"))"
      ]
     },
     "execution_count": 199,
     "metadata": {},
     "output_type": "execute_result"
    }
   ],
   "source": [
    "string_literal(\"\\\"ciao\\\"\")"
   ]
  },
  {
   "cell_type": "code",
   "execution_count": 200,
   "id": "48ba90c9",
   "metadata": {},
   "outputs": [],
   "source": [
    "#[derive(Clone, Copy, Debug, PartialEq)]\n",
    "pub enum MatchOp {\n",
    "    Eql,   // ==\n",
    "    Neq,   // !=\n",
    "    EqlRe, // =~\n",
    "    NeqRe, // !~\n",
    "}"
   ]
  },
  {
   "cell_type": "code",
   "execution_count": 201,
   "id": "775d4860",
   "metadata": {},
   "outputs": [],
   "source": [
    "pub fn match_op(input: &str) -> IResult<&str, MatchOp> {\n",
    "    alt((\n",
    "        value(MatchOp::Eql, tag(\"==\")),\n",
    "        value(MatchOp::Neq, tag(\"!=\")),\n",
    "        value(MatchOp::EqlRe, tag(\"=~\")),\n",
    "        value(MatchOp::NeqRe, tag(\"!~\")),\n",
    "    ))(input)\n",
    "}\n"
   ]
  },
  {
   "cell_type": "code",
   "execution_count": 182,
   "id": "7d80cb88",
   "metadata": {},
   "outputs": [],
   "source": [
    "#[derive(Clone, Copy, Debug, PartialEq)]\n",
    "pub struct LabelMatch<'a> {\n",
    "    pub label: &'a str,\n",
    "    pub value: &'a str,\n",
    "    pub op: MatchOp,\n",
    "}"
   ]
  },
  {
   "cell_type": "code",
   "execution_count": 202,
   "id": "7286510c",
   "metadata": {},
   "outputs": [],
   "source": [
    "pub fn label_match(input: &str) -> IResult<&str, LabelMatch> {\n",
    "    let (rest, (label, op, value)) = \n",
    "        tuple((identifier, \n",
    "               preceded(space0, match_op), \n",
    "               preceded(space0, string_literal)))(input)?;\n",
    "    Ok((rest, LabelMatch{label, value, op}))\n",
    "}"
   ]
  },
  {
   "cell_type": "code",
   "execution_count": 203,
   "id": "bec0095d",
   "metadata": {},
   "outputs": [],
   "source": [
    "#[derive(Clone, Debug, PartialEq)]\n",
    "pub struct VectorSelector<'a> {\n",
    "    pub metric: &'a str,\n",
    "    pub labels: Vec<LabelMatch<'a>>,\n",
    "}"
   ]
  },
  {
   "cell_type": "code",
   "execution_count": 217,
   "id": "7781145d",
   "metadata": {},
   "outputs": [],
   "source": [
    "pub fn vector_selector(input: &str) -> IResult<&str, VectorSelector> {\n",
    "    //@todo: nom supreme\n",
    "//     let (rest, metric) = identifier(input)?;\n",
    "//     let (rest, _) = char('{')(rest)?;\n",
    "//     let (rest, labels) = separated_list0(char(','), label_match)(rest)?;\n",
    "//     let (rest, _) = char('}')(rest)?;\n",
    "//     Ok((rest, VectorSelector { metric, labels }))\n",
    "    let (rest, (metric, _, labels, _)) = tuple((\n",
    "        identifier,\n",
    "        preceded(space0, char('{')),\n",
    "        preceded(space0, separated_list1(char(','), label_match)),\n",
    "        preceded(space0, char('}')),\n",
    "        ))(input)?;\n",
    "    Ok((rest, VectorSelector{ metric, labels}))\n",
    "}"
   ]
  },
  {
   "cell_type": "code",
   "execution_count": 222,
   "id": "badd38c0",
   "metadata": {},
   "outputs": [
    {
     "name": "stdout",
     "output_type": "stream",
     "text": [
      "Ok((\"\", VectorSelector { metric: \"foo\", labels: [LabelMatch { label: \"bar\", value: \"baz\", op: Eql }, LabelMatch { label: \"qux\", value: \"123\", op: Neq }, LabelMatch { label: \"abc\", value: \"mux\", op: NeqRe }] }))\n"
     ]
    }
   ],
   "source": [
    "println!(\"{:?}\", vector_selector(r#\"foo {bar ==  \"baz\",qux!=\"123\",abc!~\"mux\"}\"#));"
   ]
  },
  {
   "cell_type": "markdown",
   "id": "afff385b",
   "metadata": {},
   "source": [
    "### Better errors"
   ]
  },
  {
   "cell_type": "code",
   "execution_count": 223,
   "id": "58257c71",
   "metadata": {},
   "outputs": [],
   "source": [
    ":dep nom_locate"
   ]
  },
  {
   "cell_type": "code",
   "execution_count": 225,
   "id": "b2739247",
   "metadata": {},
   "outputs": [],
   "source": [
    "use nom_locate;"
   ]
  },
  {
   "cell_type": "code",
   "execution_count": 226,
   "id": "a4d0c2f0",
   "metadata": {},
   "outputs": [],
   "source": [
    "use nom_locate::LocatedSpan;"
   ]
  },
  {
   "cell_type": "code",
   "execution_count": 232,
   "id": "67b3bbe1",
   "metadata": {},
   "outputs": [],
   "source": [
    "type Span<'a> = LocatedSpan<&'a str>;\n",
    "type Res<'a, O> = nom::IResult<Span<'a>, O>;"
   ]
  },
  {
   "cell_type": "code",
   "execution_count": null,
   "id": "c12db8a9",
   "metadata": {},
   "outputs": [],
   "source": []
  }
 ],
 "metadata": {
  "kernelspec": {
   "display_name": "Rust",
   "language": "rust",
   "name": "rust"
  },
  "language_info": {
   "codemirror_mode": "rust",
   "file_extension": ".rs",
   "mimetype": "text/rust",
   "name": "Rust",
   "pygment_lexer": "rust",
   "version": ""
  }
 },
 "nbformat": 4,
 "nbformat_minor": 5
}
