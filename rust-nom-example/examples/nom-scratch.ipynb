{
 "cells": [
  {
   "cell_type": "markdown",
   "id": "3ef19605",
   "metadata": {},
   "source": [
    "# Parsing with nom\n",
    "\n",
    "Resources:\n",
    "\n",
    "https://iximiuz.com/en/posts/rust-writing-parsers-with-nom/\n",
    "\n",
    "https://blog.logrocket.com/parsing-in-rust-with-nom/\n",
    "\n",
    "To return error from parser:\n",
    "```rust\n",
    "Err(nom::Err::Error(nom::error::Error::from_error_kind(input, nom::error::ErrorKind::Char)))\n",
    "```\n",
    "\n",
    "## 1. URL Parser"
   ]
  },
  {
   "cell_type": "code",
   "execution_count": 4,
   "id": "bfa7712a",
   "metadata": {},
   "outputs": [],
   "source": [
    "extern crate nom;"
   ]
  },
  {
   "cell_type": "code",
   "execution_count": 5,
   "id": "52c036b9",
   "metadata": {},
   "outputs": [],
   "source": [
    "\n",
    "use nom::bytes::complete::tag;\n",
    "use nom::character::complete::*;\n",
    "use nom::multi::*;\n",
    "use nom::sequence::*;\n",
    "use nom::IResult;\n",
    "use nom::branch::alt;\n",
    "use nom::complete::*;\n",
    "use nom::InputTakeAtPosition;\n",
    "use nom::AsChar;\n"
   ]
  },
  {
   "cell_type": "code",
   "execution_count": 103,
   "id": "2b679562",
   "metadata": {},
   "outputs": [],
   "source": [
    "type Res<'a> = IResult<&'a str, &'a str>;\n",
    "type ResStr<'a> = IResult<&'a str, String>;//, NomError<&'a str>>;"
   ]
  },
  {
   "cell_type": "code",
   "execution_count": 51,
   "id": "e898d5f4",
   "metadata": {},
   "outputs": [],
   "source": [
    "let t : Res = terminated(alphanumeric1, tag(\".\"))(\"ciao.\");\n"
   ]
  },
  {
   "cell_type": "code",
   "execution_count": 52,
   "id": "a7eed40c",
   "metadata": {},
   "outputs": [
    {
     "data": {
      "text/plain": [
       "Ok((\"\", \"ciao\"))"
      ]
     },
     "execution_count": 52,
     "metadata": {},
     "output_type": "execute_result"
    }
   ],
   "source": [
    "t"
   ]
  },
  {
   "cell_type": "code",
   "execution_count": 53,
   "id": "75f1cf13",
   "metadata": {},
   "outputs": [],
   "source": [
    "let t : ResStr = \n",
    "    many1(terminated(alphanumeric1, tag(\".\")))(\"first.second.\")\n",
    "        .map(|(remaining, parsed)| {\n",
    "            (\"\", format!(\"{:?}\", parsed))\n",
    "});"
   ]
  },
  {
   "cell_type": "code",
   "execution_count": 54,
   "id": "ec5e2349",
   "metadata": {
    "scrolled": true
   },
   "outputs": [
    {
     "data": {
      "text/plain": [
       "Ok((\"\", \"[\\\"first\\\", \\\"second\\\"]\"))"
      ]
     },
     "execution_count": 54,
     "metadata": {},
     "output_type": "execute_result"
    }
   ],
   "source": [
    "t"
   ]
  },
  {
   "cell_type": "code",
   "execution_count": 56,
   "id": "f618dd8c",
   "metadata": {},
   "outputs": [],
   "source": [
    "fn is_alpha_char(c: char) -> bool { \n",
    "    c.is_alphabetic()\n",
    "}"
   ]
  },
  {
   "cell_type": "code",
   "execution_count": 63,
   "id": "9e1b2203",
   "metadata": {},
   "outputs": [],
   "source": [
    "let t : ResStr = \n",
    "    alt(\n",
    "        (many1\n",
    "            (terminated\n",
    "                (alphanumeric1, tag(\".\"))),\n",
    "         many_m_n(1, 1, take_while(is_alpha_char))))\n",
    "    (\"first.second.third\")\n",
    "    .map(|(remaining, parsed)| {\n",
    "            (\"\", format!(\"{:?}\", parsed))\n",
    "    });"
   ]
  },
  {
   "cell_type": "markdown",
   "id": "03c91def",
   "metadata": {},
   "source": [
    "### Adding hyphen to alphanumeric1\n",
    "Original code:\n",
    "```\n",
    "nom/character/complete.rs\n",
    "```\n",
    "```rust\n",
    "pub fn alphanumeric1<T, E: ParseError<T>>(input: T) -> IResult<T, T, E>\n",
    "where\n",
    "  T: InputTakeAtPosition,\n",
    "  <T as InputTakeAtPosition>::Item: AsChar,\n",
    "{\n",
    "  input.split_at_position1_complete(|item| !item.is_alphanum(), ErrorKind::AlphaNumeric)\n",
    "}  \n",
    "```"
   ]
  },
  {
   "cell_type": "code",
   "execution_count": 73,
   "id": "2b5aea7c",
   "metadata": {},
   "outputs": [],
   "source": [
    "\n",
    "fn alphahyphen1<T>(i: T) -> IResult<T, T>\n",
    "where\n",
    "    T: InputTakeAtPosition,\n",
    "    <T as InputTakeAtPosition>::Item: AsChar,\n",
    "{\n",
    "    i.split_at_position1_complete(\n",
    "        |item| {\n",
    "            let char_item = item.as_char();\n",
    "            !(char_item == '-') && !char_item.is_alphanum()\n",
    "        },\n",
    "        ErrorKind::AlphaNumeric,\n",
    "    )\n",
    "}"
   ]
  },
  {
   "cell_type": "code",
   "execution_count": 95,
   "id": "3efe2dea",
   "metadata": {},
   "outputs": [],
   "source": [
    "let t : ResStr = \n",
    "    separated_list1(tag(\".\"), alphahyphen1)(\"^x.b.c/ccc\")\n",
    "    .map(|(rem, v)| (rem, format!(\"{:?}\", v)));"
   ]
  },
  {
   "cell_type": "code",
   "execution_count": 96,
   "id": "eef4a440",
   "metadata": {},
   "outputs": [
    {
     "data": {
      "text/plain": [
       "Err(Error(Error { input: \"^x.b.c/ccc\", code: AlphaNumeric }))"
      ]
     },
     "execution_count": 96,
     "metadata": {},
     "output_type": "execute_result"
    }
   ],
   "source": [
    "t"
   ]
  },
  {
   "cell_type": "code",
   "execution_count": 118,
   "id": "0532ae87",
   "metadata": {},
   "outputs": [],
   "source": [
    "// The map function cannot return an error, need to map to a type like\n",
    "// enum IP {\n",
    "//   Address([u8;4]),\n",
    "//   Invalid\n",
    "// }\n",
    "// return empty string in this case\n",
    "let x : ResStr = \n",
    "    separated_list1(tag(\".\"), digit1)(\"234.12.56.13\")\n",
    "    .map(|(remaining, v)|   {\n",
    "        if v.iter().any(\n",
    "            |x| x.parse::<i32>().unwrap() < 1 || \n",
    "                x.parse::<i32>().unwrap() > 254) {\n",
    "            return (remaining, \"\".to_owned());\n",
    "            // also check for reserved addresses 10., broadcast...\n",
    "        }\n",
    "        else {\n",
    "            return (remaining, format!(\"{:?}\", v));\n",
    "        }\n",
    "    });\n"
   ]
  },
  {
   "cell_type": "code",
   "execution_count": 117,
   "id": "7bb551e6",
   "metadata": {},
   "outputs": [
    {
     "data": {
      "text/plain": [
       "Ok((\"\", \"[\\\"234\\\", \\\"12\\\", \\\"56\\\", \\\"13\\\"]\"))"
      ]
     },
     "execution_count": 117,
     "metadata": {},
     "output_type": "execute_result"
    }
   ],
   "source": [
    "x"
   ]
  },
  {
   "cell_type": "markdown",
   "id": "7f862058",
   "metadata": {},
   "source": [
    "## 2. Error Handling\n",
    "\n",
    "### Look here\n",
    "\n",
    "https://iximiuz.com/en/posts/rust-writing-parsers-with-nom/\n",
    "\n",
    "for a great explanation of how to implement custom errors and handle partial error parsing (hint: use `Failure`).  \n",
    "\n",
    "### Return error from parser:\n",
    "```rust\n",
    "Err(nom::Err::Error(nom::error::Error::from_error_kind(input, nom::error::ErrorKind::Char)))\n",
    "```\n",
    "### Print line info\n",
    "\n",
    "```rust\n",
    "use nom::IResult;\n",
    "use nom::bytes::complete::tag;\n",
    "use nom::character::complete::digit1;\n",
    "use nom::combinator::fail;\n",
    "use nom::error::{context, VerboseError};\n",
    "use nom::error::convert_error;\n",
    "use nom::Finish;\n",
    "\n",
    "fn dup(s: &str) -> IResult<&str, u64, VerboseError<&str>> {\n",
    "    let r: IResult<_,_,VerboseError<_>> = tag(\"\\ndup\")(s);\n",
    "    match r {\n",
    "        Ok((s, _)) => {\n",
    "                let (sd, n) = digit1(s)?;\n",
    "            \n",
    "                let n = match n {\n",
    "                    \"0\" => 0,\n",
    "                    \"1\" => 1,\n",
    "                    \"2\" => 2,\n",
    "                    _ => return context(\"using an out-of-bounds dup\", fail)(s),\n",
    "                };\n",
    "            \n",
    "                return Ok((sd, n));\n",
    "        },\n",
    "        //Err(_e) => return context(\"Error\", fail)(s),\n",
    "        Err(_) => return Err(nom::Err::Error(VerboseError{errors: vec![]})),\n",
    "    }\n",
    "}\n",
    "\n",
    "fn main() {\n",
    "    let input = \"\\ndip3\";\n",
    "    let result = context(\"dup\", dup)(input).finish().err().unwrap();\n",
    "    println!(\"{}\", convert_error(input, result));\n",
    "}\n",
    "\n",
    "```"
   ]
  },
  {
   "cell_type": "markdown",
   "id": "51d2cce4",
   "metadata": {},
   "source": [
    "## Custom errors"
   ]
  },
  {
   "cell_type": "code",
   "execution_count": 49,
   "id": "7546a8c6",
   "metadata": {},
   "outputs": [],
   "source": [
    "extern crate nom;\n",
    "\n",
    "use nom::error::ErrorKind;\n",
    "use nom::error::ParseError;\n",
    "use nom::Err::Error;\n",
    "use nom::IResult;\n",
    "use nom::character::complete::digit1;\n",
    "\n",
    "#[derive(Debug, PartialEq)]\n",
    "pub enum CustomError<I> {\n",
    "  MyError((I, String)),\n",
    "  Nom(I, ErrorKind),\n",
    "}\n",
    "\n",
    "impl<I> ParseError<I> for CustomError<I> {\n",
    "  fn from_error_kind(input: I, kind: ErrorKind) -> Self {\n",
    "    CustomError::Nom(input, kind)\n",
    "  }\n",
    "\n",
    "  fn append(_: I, _: ErrorKind, other: Self) -> Self {\n",
    "    other\n",
    "  }\n",
    "}\n",
    "\n",
    "pub fn parse<'a>(input: &'a str, msg: &str) -> IResult<&'a str, &'a str, CustomError<&'a str>> {\n",
    "    //let _xs = digit1(input)?; // return standard Nom error through 'from_error_kind'\n",
    "    // return custom error\n",
    "    Err(Error(CustomError::MyError((input, format!(\"added by parser + {msg}\")))))\n",
    "}\n",
    "\n",
    "//fn main() {}\n",
    "\n",
    "//#[cfg(test)]\n",
    "mod tests {\n",
    "  use super::parse;\n",
    "  use super::CustomError;\n",
    "  use nom::Err::Error;\n",
    "\n",
    "  //#[test]\n",
    "  pub /*pub just for running within jupyter notebooks*/ fn it_works() {\n",
    "    let err = parse(\"\", \"error message\").unwrap_err();\n",
    "    match err {\n",
    "      Error(CustomError::MyError((i, msg))) => {\n",
    "        assert_eq!(msg, \"added by parser + error message\");\n",
    "        //assert_eq!(e, CustomError::MyError(\"error message\".to_string()));\n",
    "      },\n",
    "      Error(CustomError::Nom(i, k)) => {\n",
    "        println!(\"{i} > {k:?}\");  \n",
    "      },\n",
    "      _ => panic!(\"Unexpected error: {:?}\", err),\n",
    "    \n",
    "    }\n",
    "  }\n",
    "}"
   ]
  },
  {
   "cell_type": "code",
   "execution_count": 11,
   "id": "7d18d830",
   "metadata": {},
   "outputs": [
    {
     "name": "stdout",
     "output_type": "stream",
     "text": [
      " > Digit\n"
     ]
    }
   ],
   "source": [
    "tests::it_works();"
   ]
  },
  {
   "cell_type": "markdown",
   "id": "4948f851",
   "metadata": {},
   "source": [
    "## Print line and column information\n",
    "\n",
    "Consider using the following crates:\n",
    "* nom-supreme\n",
    "* nom-locate\n",
    "\n",
    "And re-implementing the `convert_error` function for your own error types.\n",
    "The trick is just to use the `offset` and `filter` functions to count the number of end of line symbols in the input stream until the location where the error occurs.\n",
    "\n",
    "```rust\n",
    "/// Transforms a `VerboseError` into a trace with input position information\n",
    "#[cfg(feature = \"alloc\")]\n",
    "#[cfg_attr(feature = \"docsrs\", doc(cfg(feature = \"alloc\")))]\n",
    "pub fn convert_error<I: core::ops::Deref<Target = str>>(\n",
    "  input: I,\n",
    "  e: VerboseError<I>, // <- replace with your own error type\n",
    ") -> crate::lib::std::string::String {\n",
    "  use crate::lib::std::fmt::Write;\n",
    "  use crate::traits::Offset;\n",
    "\n",
    "  let mut result = crate::lib::std::string::String::new();\n",
    "\n",
    "  for (i, (substring, kind)) in e.errors.iter().enumerate() {\n",
    "    let offset = input.offset(substring);\n",
    "\n",
    "    if input.is_empty() {\n",
    "      match kind {\n",
    "        VerboseErrorKind::Char(c) => {\n",
    "          write!(&mut result, \"{}: expected '{}', got empty input\\n\\n\", i, c)\n",
    "        }\n",
    "        VerboseErrorKind::Context(s) => write!(&mut result, \"{}: in {}, got empty input\\n\\n\", i, s),\n",
    "        VerboseErrorKind::Nom(e) => write!(&mut result, \"{}: in {:?}, got empty input\\n\\n\", i, e),\n",
    "      }\n",
    "    } else {\n",
    "      let prefix = &input.as_bytes()[..offset];\n",
    "\n",
    "      // Count the number of newlines in the first `offset` bytes of input\n",
    "      let line_number = prefix.iter().filter(|&&b| b == b'\\n').count() + 1;\n",
    "\n",
    "      // Find the line that includes the subslice:\n",
    "      // Find the *last* newline before the substring starts\n",
    "      let line_begin = prefix\n",
    "        .iter()\n",
    "        .rev()\n",
    "        .position(|&b| b == b'\\n')\n",
    "        .map(|pos| offset - pos)\n",
    "        .unwrap_or(0);\n",
    "\n",
    "      // Find the full line after that newline\n",
    "      let line = input[line_begin..]\n",
    "        .lines()\n",
    "        .next()\n",
    "        .unwrap_or(&input[line_begin..])\n",
    "        .trim_end();\n",
    "\n",
    "      // The (1-indexed) column number is the offset of our substring into that line\n",
    "      let column_number = line.offset(substring) + 1;\n",
    "\n",
    "      match kind {\n",
    "        VerboseErrorKind::Char(c) => {\n",
    "          if let Some(actual) = substring.chars().next() {\n",
    "            write!(\n",
    "              &mut result,\n",
    "              \"{i}: at line {line_number}:\\n\\\n",
    "               {line}\\n\\\n",
    "               {caret:>column$}\\n\\\n",
    "               expected '{expected}', found {actual}\\n\\n\",\n",
    "              i = i,\n",
    "              line_number = line_number,\n",
    "              line = line,\n",
    "              caret = '^',\n",
    "              column = column_number,\n",
    "              expected = c,\n",
    "              actual = actual,\n",
    "            )\n",
    "          } else {\n",
    "            write!(\n",
    "              &mut result,\n",
    "              \"{i}: at line {line_number}:\\n\\\n",
    "               {line}\\n\\\n",
    "               {caret:>column$}\\n\\\n",
    "               expected '{expected}', got end of input\\n\\n\",\n",
    "              i = i,\n",
    "              line_number = line_number,\n",
    "              line = line,\n",
    "              caret = '^',\n",
    "              column = column_number,\n",
    "              expected = c,\n",
    "            )\n",
    "          }\n",
    "        }\n",
    "        VerboseErrorKind::Context(s) => write!(\n",
    "          &mut result,\n",
    "          \"{i}: at line {line_number}, in {context}:\\n\\\n",
    "             {line}\\n\\\n",
    "             {caret:>column$}\\n\\n\",\n",
    "          i = i,\n",
    "          line_number = line_number,\n",
    "          context = s,\n",
    "          line = line,\n",
    "          caret = '^',\n",
    "          column = column_number,\n",
    "        ),\n",
    "        VerboseErrorKind::Nom(e) => write!(\n",
    "          &mut result,\n",
    "          \"{i}: at line {line_number}, in {nom_err:?}:\\n\\\n",
    "             {line}\\n\\\n",
    "             {caret:>column$}\\n\\n\",\n",
    "          i = i,\n",
    "          line_number = line_number,\n",
    "          nom_err = e,\n",
    "          line = line,\n",
    "          caret = '^',\n",
    "          column = column_number,\n",
    "        ),\n",
    "      }\n",
    "    }\n",
    "    // Because `write!` to a `String` is infallible, this `unwrap` is fine.\n",
    "    .unwrap();\n",
    "  }\n",
    "\n",
    "  result\n",
    "}\n",
    "```\n",
    "\n",
    "\n"
   ]
  },
  {
   "cell_type": "code",
   "execution_count": 47,
   "id": "313dde70-04dd-468a-b45b-57fc1905659e",
   "metadata": {},
   "outputs": [],
   "source": [
    "/// CustomError implementation\n",
    "\n",
    "/// @warning ASCII only\n",
    "fn str_offset(s1: &str, s2: &str) -> usize {\n",
    "    s2.as_ptr() as usize - s2.as_ptr() as usize\n",
    "}\n",
    "\n",
    "pub fn convert_error(\n",
    "  input: &str,\n",
    "  e: CustomError<&str>,\n",
    ") -> String {\n",
    "  use std::fmt::Write;\n",
    "\n",
    "  let mut result = String::new();\n",
    "\n",
    "  if let CustomError::MyError((i, msg)) = e {\n",
    "      let offset = str_offset(input, i);\n",
    "      let prefix = &input.as_bytes()[..offset];\n",
    "      let line_number = prefix.iter().filter(|&&b| b == b'\\n').count() + 1;\n",
    "      // Find the line that includes the subslice:\n",
    "      // Find the *last* newline before the substring starts\n",
    "      let line_begin = prefix\n",
    "        .iter()\n",
    "        .rev()\n",
    "        .position(|&b| b == b'\\n')\n",
    "        .map(|pos| offset - pos)\n",
    "        .unwrap_or(0);\n",
    "\n",
    "      // Find the full line after that newline\n",
    "      let line = input[line_begin..]\n",
    "        .lines()\n",
    "        .next()\n",
    "        .unwrap_or(&input[line_begin..])\n",
    "        .trim_end();\n",
    "\n",
    "      // The (1-indexed) column number is the offset of our substring into that line\n",
    "      let column_number = str_offset(line, i) + 1;\n",
    "      write!(&mut result, \"{line_number}, {column_number}: {msg}\").unwrap();\n",
    "      \n",
    "  }\n",
    "  result\n",
    "}"
   ]
  },
  {
   "cell_type": "markdown",
   "id": "25f0633a",
   "metadata": {},
   "source": [
    "## 3. Custom Parsers"
   ]
  },
  {
   "cell_type": "code",
   "execution_count": 43,
   "id": "81f90b55",
   "metadata": {},
   "outputs": [],
   "source": [
    "use nom::error::ParseError;\n",
    "/// Parses strings like [a-zA-Z_][a-zA-Z0-9_]*\n",
    "fn ipaddress(input: &str) -> IResult<&str, String> {\n",
    "    let s = separated_list1(tag(\".\"), digit1)(input);\n",
    "    if let Err(e) = s {\n",
    "        return Err(e);\n",
    "    } else {\n",
    "        let (rem, p) = s.map(|(remaining, v)|   {\n",
    "                    if v.iter().any(\n",
    "                        |x| x.parse::<i32>().unwrap() < 1 || \n",
    "                            x.parse::<i32>().unwrap() > 254) {\n",
    "                        return (remaining, \"\".to_owned());\n",
    "                        // also check for reserved addresses 10., broadcast...\n",
    "                    }\n",
    "                    else {\n",
    "                        return (remaining, format!(\"{:?}\", v));\n",
    "                    }}).unwrap();\n",
    "        if p.is_empty() {\n",
    "            Err(nom::Err::Error(nom::error::Error::from_error_kind(rem, nom::error::ErrorKind::TooLarge)))\n",
    "            // WANT TO USE:\n",
    "//             Err(nom::Err::Failure(ParseError::partial(\n",
    "//              \"regex\",\n",
    "//              \"closing '/' symbol\",\n",
    "//              rest,\n",
    "//            )))\n",
    "            // complains about missing 'dyn'\n",
    "         \n",
    "        } else {\n",
    "            Ok((rem, p))\n",
    "        }\n",
    "    }\n",
    "      \n",
    "}"
   ]
  },
  {
   "cell_type": "code",
   "execution_count": 131,
   "id": "d3900990",
   "metadata": {},
   "outputs": [],
   "source": [
    "let x : ResStr = ipaddress(\"255.6.7.7\");"
   ]
  },
  {
   "cell_type": "code",
   "execution_count": 132,
   "id": "71e40f66",
   "metadata": {},
   "outputs": [
    {
     "data": {
      "text/plain": [
       "Err(Error(Error { input: \"\", code: TooLarge }))"
      ]
     },
     "execution_count": 132,
     "metadata": {},
     "output_type": "execute_result"
    }
   ],
   "source": [
    "x"
   ]
  },
  {
   "cell_type": "code",
   "execution_count": 44,
   "id": "d1bca3e7",
   "metadata": {},
   "outputs": [
    {
     "ename": "Error",
     "evalue": "consider importing one of these items",
     "output_type": "error",
     "traceback": [
      "",
      "",
      "consider importing one of these items"
     ]
    }
   ],
   "source": [
    "let ip_address_str = [\"194\", \"221\", \"A\", \"12\"];\n",
    "let ip_address = ip_address_str.iter().map(|d| d.parse::<i32>()).collect::<Result<Vec<_>,_>>();\n",
    "match ip_address {\n",
    "    Ok(_) => print!(\"OK\"),\n",
    "    _ => print!(\"No way\")\n",
    "}"
   ]
  },
  {
   "cell_type": "code",
   "execution_count": 45,
   "id": "b1e8b41a",
   "metadata": {},
   "outputs": [],
   "source": [
    "let x = [1,4,5,6];"
   ]
  },
  {
   "cell_type": "code",
   "execution_count": 46,
   "id": "e54d10b6",
   "metadata": {},
   "outputs": [
    {
     "ename": "Error",
     "evalue": "expected `;`, found keyword `fn`",
     "output_type": "error",
     "traceback": [
      "let ok : IResult<_,_> = nom::number::complete::f32(endian)",
      "\u001b[91m                                                          \u001b[0m \u001b[94m\u001b[0m",
      "expected `;`, found keyword `fn`",
      "\u001b[1mhelp\u001b[0m: add `;` here\n\n;"
     ]
    },
    {
     "ename": "Error",
     "evalue": "cannot find value `endian` in this scope",
     "output_type": "error",
     "traceback": [
      "let ok : IResult<_,_> = nom::number::complete::f32(endian)",
      "\u001b[91m                                                   ^^^^^^\u001b[0m \u001b[94mnot found in this scope\u001b[0m",
      "cannot find value `endian` in this scope"
     ]
    },
    {
     "ename": "Error",
     "evalue": "mismatched types",
     "output_type": "error",
     "traceback": [
      "let ok : IResult<_,_> = nom::number::complete::f32(endian)",
      "\u001b[91m                        ^^^^^^^^^^^^^^^^^^^^^^^^^^^^^^^^^^\u001b[0m \u001b[94mexpected `Result<(_, _), Err<Error<_>>>`, found fn pointer\u001b[0m",
      "let ok : IResult<_,_> = nom::number::complete::f32(endian)",
      "\u001b[91m         ^^^^^^^^^^^^\u001b[0m \u001b[94mexpected due to this\u001b[0m",
      "mismatched types",
      "\u001b[1mhelp\u001b[0m: use parentheses to call this function pointer\n\n(/* value */)"
     ]
    }
   ],
   "source": [
    "let ok : IResult<_,_> = nom::number::complete::f32(endian)\n",
    "if let Ok((_, x)) = ok {\n",
    "    let _ = println!(\"{x}\");\n",
    "}"
   ]
  },
  {
   "cell_type": "code",
   "execution_count": null,
   "id": "a6f6db1d",
   "metadata": {},
   "outputs": [],
   "source": []
  }
 ],
 "metadata": {
  "kernelspec": {
   "display_name": "Rust",
   "language": "rust",
   "name": "rust"
  },
  "language_info": {
   "codemirror_mode": "rust",
   "file_extension": ".rs",
   "mimetype": "text/rust",
   "name": "Rust",
   "pygment_lexer": "rust",
   "version": ""
  }
 },
 "nbformat": 4,
 "nbformat_minor": 5
}
