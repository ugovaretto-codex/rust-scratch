{
 "cells": [
  {
   "cell_type": "markdown",
   "id": "3ef19605",
   "metadata": {},
   "source": [
    "# Parsing with nom\n",
    "\n",
    "Resources:\n",
    "\n",
    "https://iximiuz.com/en/posts/rust-writing-parsers-with-nom/\n",
    "\n",
    "https://blog.logrocket.com/parsing-in-rust-with-nom/\n",
    "\n",
    "To return error from parser:\n",
    "```rust\n",
    "Err(nom::Err::Error(nom::error::Error::from_error_kind(input, nom::error::ErrorKind::Char)))\n",
    "```\n",
    "\n",
    "## 1. URL Parser"
   ]
  },
  {
   "cell_type": "code",
   "execution_count": 2,
   "id": "bfa7712a",
   "metadata": {},
   "outputs": [],
   "source": [
    "extern crate nom;"
   ]
  },
  {
   "cell_type": "code",
   "execution_count": 3,
   "id": "52c036b9",
   "metadata": {},
   "outputs": [],
   "source": [
    "\n",
    "use nom::bytes::complete::tag;\n",
    "use nom::character::complete::*;\n",
    "use nom::multi::*;\n",
    "use nom::sequence::*;\n",
    "use nom::IResult;\n",
    "use nom::branch::alt;\n",
    "use nom::complete::*;\n",
    "use nom::InputTakeAtPosition;\n",
    "use nom::AsChar;\n"
   ]
  },
  {
   "cell_type": "code",
   "execution_count": 103,
   "id": "2b679562",
   "metadata": {},
   "outputs": [],
   "source": [
    "type Res<'a> = IResult<&'a str, &'a str>;\n",
    "type ResStr<'a> = IResult<&'a str, String>;//, NomError<&'a str>>;"
   ]
  },
  {
   "cell_type": "code",
   "execution_count": 51,
   "id": "e898d5f4",
   "metadata": {},
   "outputs": [],
   "source": [
    "let t : Res = terminated(alphanumeric1, tag(\".\"))(\"ciao.\");\n"
   ]
  },
  {
   "cell_type": "code",
   "execution_count": 52,
   "id": "a7eed40c",
   "metadata": {},
   "outputs": [
    {
     "data": {
      "text/plain": [
       "Ok((\"\", \"ciao\"))"
      ]
     },
     "execution_count": 52,
     "metadata": {},
     "output_type": "execute_result"
    }
   ],
   "source": [
    "t"
   ]
  },
  {
   "cell_type": "code",
   "execution_count": 53,
   "id": "75f1cf13",
   "metadata": {},
   "outputs": [],
   "source": [
    "let t : ResStr = \n",
    "    many1(terminated(alphanumeric1, tag(\".\")))(\"first.second.\")\n",
    "        .map(|(remaining, parsed)| {\n",
    "            (\"\", format!(\"{:?}\", parsed))\n",
    "});"
   ]
  },
  {
   "cell_type": "code",
   "execution_count": 54,
   "id": "ec5e2349",
   "metadata": {
    "scrolled": true
   },
   "outputs": [
    {
     "data": {
      "text/plain": [
       "Ok((\"\", \"[\\\"first\\\", \\\"second\\\"]\"))"
      ]
     },
     "execution_count": 54,
     "metadata": {},
     "output_type": "execute_result"
    }
   ],
   "source": [
    "t"
   ]
  },
  {
   "cell_type": "code",
   "execution_count": 56,
   "id": "f618dd8c",
   "metadata": {},
   "outputs": [],
   "source": [
    "fn is_alpha_char(c: char) -> bool { \n",
    "    c.is_alphabetic()\n",
    "}"
   ]
  },
  {
   "cell_type": "code",
   "execution_count": 63,
   "id": "9e1b2203",
   "metadata": {},
   "outputs": [],
   "source": [
    "let t : ResStr = \n",
    "    alt(\n",
    "        (many1\n",
    "            (terminated\n",
    "                (alphanumeric1, tag(\".\"))),\n",
    "         many_m_n(1, 1, take_while(is_alpha_char))))\n",
    "    (\"first.second.third\")\n",
    "    .map(|(remaining, parsed)| {\n",
    "            (\"\", format!(\"{:?}\", parsed))\n",
    "    });"
   ]
  },
  {
   "cell_type": "markdown",
   "id": "03c91def",
   "metadata": {},
   "source": [
    "### Adding hyphen to alphanumeric1\n",
    "Original code:\n",
    "```\n",
    "nom/character/complete.rs\n",
    "```\n",
    "```rust\n",
    "pub fn alphanumeric1<T, E: ParseError<T>>(input: T) -> IResult<T, T, E>\n",
    "where\n",
    "  T: InputTakeAtPosition,\n",
    "  <T as InputTakeAtPosition>::Item: AsChar,\n",
    "{\n",
    "  input.split_at_position1_complete(|item| !item.is_alphanum(), ErrorKind::AlphaNumeric)\n",
    "}  \n",
    "```"
   ]
  },
  {
   "cell_type": "code",
   "execution_count": 73,
   "id": "2b5aea7c",
   "metadata": {},
   "outputs": [],
   "source": [
    "\n",
    "fn alphahyphen1<T>(i: T) -> IResult<T, T>\n",
    "where\n",
    "    T: InputTakeAtPosition,\n",
    "    <T as InputTakeAtPosition>::Item: AsChar,\n",
    "{\n",
    "    i.split_at_position1_complete(\n",
    "        |item| {\n",
    "            let char_item = item.as_char();\n",
    "            !(char_item == '-') && !char_item.is_alphanum()\n",
    "        },\n",
    "        ErrorKind::AlphaNumeric,\n",
    "    )\n",
    "}"
   ]
  },
  {
   "cell_type": "code",
   "execution_count": 95,
   "id": "3efe2dea",
   "metadata": {},
   "outputs": [],
   "source": [
    "let t : ResStr = \n",
    "    separated_list1(tag(\".\"), alphahyphen1)(\"^x.b.c/ccc\")\n",
    "    .map(|(rem, v)| (rem, format!(\"{:?}\", v)));"
   ]
  },
  {
   "cell_type": "code",
   "execution_count": 96,
   "id": "eef4a440",
   "metadata": {},
   "outputs": [
    {
     "data": {
      "text/plain": [
       "Err(Error(Error { input: \"^x.b.c/ccc\", code: AlphaNumeric }))"
      ]
     },
     "execution_count": 96,
     "metadata": {},
     "output_type": "execute_result"
    }
   ],
   "source": [
    "t"
   ]
  },
  {
   "cell_type": "code",
   "execution_count": 118,
   "id": "0532ae87",
   "metadata": {},
   "outputs": [],
   "source": [
    "// The map function cannot return an error, need to map to a type like\n",
    "// enum IP {\n",
    "//   Address([u8;4]),\n",
    "//   Invalid\n",
    "// }\n",
    "// return empty string in this case\n",
    "let x : ResStr = \n",
    "    separated_list1(tag(\".\"), digit1)(\"234.12.56.13\")\n",
    "    .map(|(remaining, v)|   {\n",
    "        if v.iter().any(\n",
    "            |x| x.parse::<i32>().unwrap() < 1 || \n",
    "                x.parse::<i32>().unwrap() > 254) {\n",
    "            return (remaining, \"\".to_owned());\n",
    "            // also check for reserved addresses 10., broadcast...\n",
    "        }\n",
    "        else {\n",
    "            return (remaining, format!(\"{:?}\", v));\n",
    "        }\n",
    "    });\n"
   ]
  },
  {
   "cell_type": "code",
   "execution_count": 117,
   "id": "7bb551e6",
   "metadata": {},
   "outputs": [
    {
     "data": {
      "text/plain": [
       "Ok((\"\", \"[\\\"234\\\", \\\"12\\\", \\\"56\\\", \\\"13\\\"]\"))"
      ]
     },
     "execution_count": 117,
     "metadata": {},
     "output_type": "execute_result"
    }
   ],
   "source": [
    "x"
   ]
  },
  {
   "cell_type": "markdown",
   "id": "7f862058",
   "metadata": {},
   "source": [
    "### To return error from parser:\n",
    "```rust\n",
    "Err(nom::Err::Error(nom::error::Error::from_error_kind(input, nom::error::ErrorKind::Char)))\n",
    "```"
   ]
  },
  {
   "cell_type": "markdown",
   "id": "25f0633a",
   "metadata": {},
   "source": [
    "## 2. Custom Parsers"
   ]
  },
  {
   "cell_type": "code",
   "execution_count": 128,
   "id": "81f90b55",
   "metadata": {},
   "outputs": [],
   "source": [
    "use nom::error::ParseError;\n",
    "/// Parses strings like [a-zA-Z_][a-zA-Z0-9_]*\n",
    "fn ipaddress(input: &str) -> IResult<&str, String> {\n",
    "    let s = separated_list1(tag(\".\"), digit1)(input);\n",
    "    if let Err(e) = s {\n",
    "        return Err(e);\n",
    "    } else {\n",
    "        let (rem, p) = s.map(|(remaining, v)|   {\n",
    "                    if v.iter().any(\n",
    "                        |x| x.parse::<i32>().unwrap() < 1 || \n",
    "                            x.parse::<i32>().unwrap() > 254) {\n",
    "                        return (remaining, \"\".to_owned());\n",
    "                        // also check for reserved addresses 10., broadcast...\n",
    "                    }\n",
    "                    else {\n",
    "                        return (remaining, format!(\"{:?}\", v));\n",
    "                    }}).unwrap();\n",
    "        if p.is_empty() {\n",
    "            Err(nom::Err::Error(nom::error::Error::from_error_kind(rem, nom::error::ErrorKind::TooLarge)))\n",
    "            // WANT TO USE:\n",
    "//             Err(nom::Err::Failure(ParseError::partial(\n",
    "//              \"regex\",\n",
    "//              \"closing '/' symbol\",\n",
    "//              rest,\n",
    "//            )))\n",
    "            // complains about missing 'dyn'\n",
    "         \n",
    "        } else {\n",
    "            Ok((rem, p))\n",
    "        }\n",
    "    }\n",
    "      \n",
    "}"
   ]
  },
  {
   "cell_type": "code",
   "execution_count": 131,
   "id": "d3900990",
   "metadata": {},
   "outputs": [],
   "source": [
    "let x : ResStr = ipaddress(\"255.6.7.7\");"
   ]
  },
  {
   "cell_type": "code",
   "execution_count": 132,
   "id": "71e40f66",
   "metadata": {},
   "outputs": [
    {
     "data": {
      "text/plain": [
       "Err(Error(Error { input: \"\", code: TooLarge }))"
      ]
     },
     "execution_count": 132,
     "metadata": {},
     "output_type": "execute_result"
    }
   ],
   "source": [
    "x"
   ]
  },
  {
   "cell_type": "code",
   "execution_count": 17,
   "id": "d1bca3e7",
   "metadata": {},
   "outputs": [
    {
     "ename": "Error",
     "evalue": "consider importing one of these items",
     "output_type": "error",
     "traceback": [
      "",
      "",
      "consider importing one of these items"
     ]
    }
   ],
   "source": [
    "let ip_address_str = [\"194\", \"221\", \"A\", \"12\"];\n",
    "let ip_address = ip_address_str.map(|d| d.parse::<i32>()).into_iter().collect::<Result<Vec<_>,_>>();\n",
    "match ip_address {\n",
    "    Ok(_) => print!(\"OK\"),\n",
    "    _ => print!(\"No way\")\n",
    "}"
   ]
  },
  {
   "cell_type": "code",
   "execution_count": 18,
   "id": "fcf0b0d5",
   "metadata": {},
   "outputs": [],
   "source": [
    "let x = [1,4,5,6];"
   ]
  },
  {
   "cell_type": "code",
   "execution_count": null,
   "id": "eee6d386",
   "metadata": {},
   "outputs": [],
   "source": []
  }
 ],
 "metadata": {
  "kernelspec": {
   "display_name": "Rust",
   "language": "rust",
   "name": "rust"
  },
  "language_info": {
   "codemirror_mode": "rust",
   "file_extension": ".rs",
   "mimetype": "text/rust",
   "name": "Rust",
   "pygment_lexer": "rust",
   "version": ""
  }
 },
 "nbformat": 4,
 "nbformat_minor": 5
}
